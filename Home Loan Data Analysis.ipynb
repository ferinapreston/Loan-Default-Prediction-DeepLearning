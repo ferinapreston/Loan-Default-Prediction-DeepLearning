{
 "cells": [
  {
   "cell_type": "code",
   "execution_count": 12,
   "id": "4ddde9eb-5ca4-43fb-8eb0-74d2d835ea66",
   "metadata": {},
   "outputs": [
    {
     "name": "stdout",
     "output_type": "stream",
     "text": [
      "Step 1: Dataset loaded successfully.\n",
      "\n"
     ]
    },
    {
     "data": {
      "text/html": [
       "<div>\n",
       "<style scoped>\n",
       "    .dataframe tbody tr th:only-of-type {\n",
       "        vertical-align: middle;\n",
       "    }\n",
       "\n",
       "    .dataframe tbody tr th {\n",
       "        vertical-align: top;\n",
       "    }\n",
       "\n",
       "    .dataframe thead th {\n",
       "        text-align: right;\n",
       "    }\n",
       "</style>\n",
       "<table border=\"1\" class=\"dataframe\">\n",
       "  <thead>\n",
       "    <tr style=\"text-align: right;\">\n",
       "      <th></th>\n",
       "      <th>credit.policy</th>\n",
       "      <th>purpose</th>\n",
       "      <th>int.rate</th>\n",
       "      <th>installment</th>\n",
       "      <th>log.annual.inc</th>\n",
       "      <th>dti</th>\n",
       "      <th>fico</th>\n",
       "      <th>days.with.cr.line</th>\n",
       "      <th>revol.bal</th>\n",
       "      <th>revol.util</th>\n",
       "      <th>inq.last.6mths</th>\n",
       "      <th>delinq.2yrs</th>\n",
       "      <th>pub.rec</th>\n",
       "      <th>not.fully.paid</th>\n",
       "    </tr>\n",
       "  </thead>\n",
       "  <tbody>\n",
       "    <tr>\n",
       "      <th>0</th>\n",
       "      <td>1</td>\n",
       "      <td>debt_consolidation</td>\n",
       "      <td>0.1189</td>\n",
       "      <td>829.10</td>\n",
       "      <td>11.350407</td>\n",
       "      <td>19.48</td>\n",
       "      <td>737</td>\n",
       "      <td>5639.958333</td>\n",
       "      <td>28854</td>\n",
       "      <td>52.1</td>\n",
       "      <td>0</td>\n",
       "      <td>0</td>\n",
       "      <td>0</td>\n",
       "      <td>0</td>\n",
       "    </tr>\n",
       "    <tr>\n",
       "      <th>1</th>\n",
       "      <td>1</td>\n",
       "      <td>credit_card</td>\n",
       "      <td>0.1071</td>\n",
       "      <td>228.22</td>\n",
       "      <td>11.082143</td>\n",
       "      <td>14.29</td>\n",
       "      <td>707</td>\n",
       "      <td>2760.000000</td>\n",
       "      <td>33623</td>\n",
       "      <td>76.7</td>\n",
       "      <td>0</td>\n",
       "      <td>0</td>\n",
       "      <td>0</td>\n",
       "      <td>0</td>\n",
       "    </tr>\n",
       "    <tr>\n",
       "      <th>2</th>\n",
       "      <td>1</td>\n",
       "      <td>debt_consolidation</td>\n",
       "      <td>0.1357</td>\n",
       "      <td>366.86</td>\n",
       "      <td>10.373491</td>\n",
       "      <td>11.63</td>\n",
       "      <td>682</td>\n",
       "      <td>4710.000000</td>\n",
       "      <td>3511</td>\n",
       "      <td>25.6</td>\n",
       "      <td>1</td>\n",
       "      <td>0</td>\n",
       "      <td>0</td>\n",
       "      <td>0</td>\n",
       "    </tr>\n",
       "    <tr>\n",
       "      <th>3</th>\n",
       "      <td>1</td>\n",
       "      <td>debt_consolidation</td>\n",
       "      <td>0.1008</td>\n",
       "      <td>162.34</td>\n",
       "      <td>11.350407</td>\n",
       "      <td>8.10</td>\n",
       "      <td>712</td>\n",
       "      <td>2699.958333</td>\n",
       "      <td>33667</td>\n",
       "      <td>73.2</td>\n",
       "      <td>1</td>\n",
       "      <td>0</td>\n",
       "      <td>0</td>\n",
       "      <td>0</td>\n",
       "    </tr>\n",
       "    <tr>\n",
       "      <th>4</th>\n",
       "      <td>1</td>\n",
       "      <td>credit_card</td>\n",
       "      <td>0.1426</td>\n",
       "      <td>102.92</td>\n",
       "      <td>11.299732</td>\n",
       "      <td>14.97</td>\n",
       "      <td>667</td>\n",
       "      <td>4066.000000</td>\n",
       "      <td>4740</td>\n",
       "      <td>39.5</td>\n",
       "      <td>0</td>\n",
       "      <td>1</td>\n",
       "      <td>0</td>\n",
       "      <td>0</td>\n",
       "    </tr>\n",
       "  </tbody>\n",
       "</table>\n",
       "</div>"
      ],
      "text/plain": [
       "   credit.policy             purpose  int.rate  installment  log.annual.inc  \\\n",
       "0              1  debt_consolidation    0.1189       829.10       11.350407   \n",
       "1              1         credit_card    0.1071       228.22       11.082143   \n",
       "2              1  debt_consolidation    0.1357       366.86       10.373491   \n",
       "3              1  debt_consolidation    0.1008       162.34       11.350407   \n",
       "4              1         credit_card    0.1426       102.92       11.299732   \n",
       "\n",
       "     dti  fico  days.with.cr.line  revol.bal  revol.util  inq.last.6mths  \\\n",
       "0  19.48   737        5639.958333      28854        52.1               0   \n",
       "1  14.29   707        2760.000000      33623        76.7               0   \n",
       "2  11.63   682        4710.000000       3511        25.6               1   \n",
       "3   8.10   712        2699.958333      33667        73.2               1   \n",
       "4  14.97   667        4066.000000       4740        39.5               0   \n",
       "\n",
       "   delinq.2yrs  pub.rec  not.fully.paid  \n",
       "0            0        0               0  \n",
       "1            0        0               0  \n",
       "2            0        0               0  \n",
       "3            0        0               0  \n",
       "4            1        0               0  "
      ]
     },
     "execution_count": 12,
     "metadata": {},
     "output_type": "execute_result"
    }
   ],
   "source": [
    "#1) Load the dataset that is given to you\n",
    "import pandas as pd\n",
    "\n",
    "# Load dataset\n",
    "df = pd.read_csv(\"loan_data.csv\")\n",
    "print(\"Step 1: Dataset loaded successfully.\\n\")\n",
    "df.head()"
   ]
  },
  {
   "cell_type": "code",
   "execution_count": 14,
   "id": "5717d74f-e7fa-4f36-a9b1-3d14e86dfe40",
   "metadata": {},
   "outputs": [
    {
     "name": "stdout",
     "output_type": "stream",
     "text": [
      "Step 2: Checking for null values...\n",
      "\n",
      "credit.policy        0\n",
      "purpose              0\n",
      "int.rate             0\n",
      "installment          0\n",
      "log.annual.inc       0\n",
      "dti                  0\n",
      "fico                 0\n",
      "days.with.cr.line    0\n",
      "revol.bal            0\n",
      "revol.util           0\n",
      "inq.last.6mths       0\n",
      "delinq.2yrs          0\n",
      "pub.rec              0\n",
      "not.fully.paid       0\n",
      "dtype: int64\n"
     ]
    }
   ],
   "source": [
    "# 2) Check for null values in the dataset\n",
    "print(\"Step 2: Checking for null values...\\n\")\n",
    "print(df.isnull().sum())"
   ]
  },
  {
   "cell_type": "code",
   "execution_count": 16,
   "id": "db7b3ef8-6116-49fa-9607-3d631954a557",
   "metadata": {},
   "outputs": [
    {
     "name": "stdout",
     "output_type": "stream",
     "text": [
      "Step 3: Percentage of defaults:\n",
      "\n",
      "not.fully.paid\n",
      "0    83.99\n",
      "1    16.01\n",
      "Name: proportion, dtype: float64\n"
     ]
    }
   ],
   "source": [
    "#3) Print the percentage of default to a payer of the dataset for the TARGET column\n",
    "default_percentage = df['not.fully.paid'].value_counts(normalize=True) * 100\n",
    "print(\"Step 3: Percentage of defaults:\\n\")\n",
    "print(default_percentage.round(2))"
   ]
  },
  {
   "cell_type": "code",
   "execution_count": 18,
   "id": "77954cc9-968e-46cb-b69f-57ef41336672",
   "metadata": {},
   "outputs": [
    {
     "name": "stdout",
     "output_type": "stream",
     "text": [
      "Step 4: SMOTE applied. Class distribution after balancing:\n",
      "not.fully.paid\n",
      "0    6436\n",
      "1    6436\n",
      "Name: count, dtype: int64\n"
     ]
    }
   ],
   "source": [
    "#4) Balance the dataset if the data is imbalanced\n",
    "from sklearn.model_selection import train_test_split\n",
    "from imblearn.over_sampling import SMOTE\n",
    "from sklearn.preprocessing import LabelEncoder\n",
    "\n",
    "X = df.drop('not.fully.paid', axis=1)\n",
    "y = df['not.fully.paid']\n",
    "\n",
    "# Encode categorical feature\n",
    "X['purpose'] = LabelEncoder().fit_transform(X['purpose'])\n",
    "\n",
    "# Train-test split\n",
    "X_train, X_test, y_train, y_test = train_test_split(X, y, stratify=y, test_size=0.2, random_state=42)\n",
    "\n",
    "# Apply SMOTE\n",
    "sm = SMOTE(random_state=42)\n",
    "X_train_bal, y_train_bal = sm.fit_resample(X_train, y_train)\n",
    "\n",
    "print(\"Step 4: SMOTE applied. Class distribution after balancing:\")\n",
    "print(y_train_bal.value_counts())"
   ]
  },
  {
   "cell_type": "code",
   "execution_count": 20,
   "id": "dc850e70-48b3-4875-af02-1cf1119379cf",
   "metadata": {},
   "outputs": [
    {
     "name": "stderr",
     "output_type": "stream",
     "text": [
      "C:\\Users\\Ferina\\AppData\\Local\\Temp\\ipykernel_1432\\2781663013.py:5: FutureWarning: \n",
      "\n",
      "Passing `palette` without assigning `hue` is deprecated and will be removed in v0.14.0. Assign the `x` variable to `hue` and set `legend=False` for the same effect.\n",
      "\n",
      "  sns.countplot(x=y_train_bal, palette='Set2')\n"
     ]
    },
    {
     "data": {
      "image/png": "[encoded data removed]",
      "text/plain": [
       "<Figure size 640x480 with 1 Axes>"
      ]
     },
     "metadata": {},
     "output_type": "display_data"
    }
   ],
   "source": [
    "#5) Plot the balanced or imbalanced data\n",
    "import seaborn as sns\n",
    "import matplotlib.pyplot as plt\n",
    "\n",
    "sns.countplot(x=y_train_bal, palette='Set2')\n",
    "plt.title(\"Balanced Class Distribution\")\n",
    "plt.xlabel(\"Not Fully Paid (1 = Defaulted, 0 = Repaid)\")\n",
    "plt.ylabel(\"Count\")\n",
    "plt.grid(True)\n",
    "plt.show()"
   ]
  },
  {
   "cell_type": "code",
   "execution_count": 22,
   "id": "75318818-a814-4bf4-9f1a-2ebfd8d9c6ab",
   "metadata": {},
   "outputs": [
    {
     "name": "stdout",
     "output_type": "stream",
     "text": [
      "Step 6: Data normalized using StandardScaler.\n"
     ]
    }
   ],
   "source": [
    "#6) Encode the columns that are required for the model\n",
    "from sklearn.preprocessing import StandardScaler\n",
    "\n",
    "scaler = StandardScaler()\n",
    "X_train_bal_scaled = scaler.fit_transform(X_train_bal)\n",
    "X_test_scaled = scaler.transform(X_test)\n",
    "\n",
    "print(\"Step 6: Data normalized using StandardScaler.\")"
   ]
  },
  {
   "cell_type": "code",
   "execution_count": 24,
   "id": "fe1c79e3-9ce1-4bca-8a92-772c61313c24",
   "metadata": {},
   "outputs": [
    {
     "name": "stdout",
     "output_type": "stream",
     "text": [
      "Step 7: Model compiled with Recall metric.\n"
     ]
    },
    {
     "name": "stderr",
     "output_type": "stream",
     "text": [
      "C:\\Users\\Ferina\\anaconda3\\Lib\\site-packages\\keras\\src\\layers\\core\\dense.py:87: UserWarning: Do not pass an `input_shape`/`input_dim` argument to a layer. When using Sequential models, prefer using an `Input(shape)` object as the first layer in the model instead.\n",
      "  super().__init__(activity_regularizer=activity_regularizer, **kwargs)\n"
     ]
    }
   ],
   "source": [
    "#7) Calculate sensitivity as a metric\n",
    "from tensorflow.keras.models import Sequential\n",
    "from tensorflow.keras.layers import Dense\n",
    "\n",
    "model = Sequential([\n",
    "    Dense(64, activation='relu', input_shape=(X_train_bal_scaled.shape[1],)),\n",
    "    Dense(32, activation='relu'),\n",
    "    Dense(1, activation='sigmoid')\n",
    "])\n",
    "\n",
    "# Add recall metric\n",
    "model.compile(optimizer='adam', loss='binary_crossentropy', metrics=['Recall'])\n",
    "\n",
    "print(\"Step 7: Model compiled with Recall metric.\")"
   ]
  },
  {
   "cell_type": "code",
   "execution_count": 26,
   "id": "c3050bb1-4700-4641-88b2-306bc5ec2a44",
   "metadata": {},
   "outputs": [
    {
     "name": "stdout",
     "output_type": "stream",
     "text": [
      "Epoch 1/20\n",
      "\u001b[1m322/322\u001b[0m \u001b[32m━━━━━━━━━━━━━━━━━━━━\u001b[0m\u001b[37m\u001b[0m \u001b[1m2s\u001b[0m 3ms/step - AUC: 0.6745 - Recall: 0.2895 - loss: 0.6104 - val_AUC: 0.0000e+00 - val_Recall: 0.5138 - val_loss: 0.7513\n",
      "Epoch 2/20\n",
      "\u001b[1m322/322\u001b[0m \u001b[32m━━━━━━━━━━━━━━━━━━━━\u001b[0m\u001b[37m\u001b[0m \u001b[1m1s\u001b[0m 2ms/step - AUC: 0.7481 - Recall: 0.4303 - loss: 0.5661 - val_AUC: 0.0000e+00 - val_Recall: 0.5437 - val_loss: 0.6831\n",
      "Epoch 3/20\n",
      "\u001b[1m322/322\u001b[0m \u001b[32m━━━━━━━━━━━━━━━━━━━━\u001b[0m\u001b[37m\u001b[0m \u001b[1m1s\u001b[0m 2ms/step - AUC: 0.7641 - Recall: 0.4598 - loss: 0.5522 - val_AUC: 0.0000e+00 - val_Recall: 0.5779 - val_loss: 0.6669\n",
      "Epoch 4/20\n",
      "\u001b[1m322/322\u001b[0m \u001b[32m━━━━━━━━━━━━━━━━━━━━\u001b[0m\u001b[37m\u001b[0m \u001b[1m1s\u001b[0m 2ms/step - AUC: 0.7651 - Recall: 0.4574 - loss: 0.5500 - val_AUC: 0.0000e+00 - val_Recall: 0.5340 - val_loss: 0.7016\n",
      "Epoch 5/20\n",
      "\u001b[1m322/322\u001b[0m \u001b[32m━━━━━━━━━━━━━━━━━━━━\u001b[0m\u001b[37m\u001b[0m \u001b[1m1s\u001b[0m 2ms/step - AUC: 0.7750 - Recall: 0.4594 - loss: 0.5363 - val_AUC: 0.0000e+00 - val_Recall: 0.6027 - val_loss: 0.6408\n",
      "Epoch 6/20\n",
      "\u001b[1m322/322\u001b[0m \u001b[32m━━━━━━━━━━━━━━━━━━━━\u001b[0m\u001b[37m\u001b[0m \u001b[1m1s\u001b[0m 2ms/step - AUC: 0.7784 - Recall: 0.4883 - loss: 0.5366 - val_AUC: 0.0000e+00 - val_Recall: 0.5798 - val_loss: 0.6662\n",
      "Epoch 7/20\n",
      "\u001b[1m322/322\u001b[0m \u001b[32m━━━━━━━━━━━━━━━━━━━━\u001b[0m\u001b[37m\u001b[0m \u001b[1m1s\u001b[0m 2ms/step - AUC: 0.7859 - Recall: 0.4943 - loss: 0.5340 - val_AUC: 0.0000e+00 - val_Recall: 0.6555 - val_loss: 0.5644\n",
      "Epoch 8/20\n",
      "\u001b[1m322/322\u001b[0m \u001b[32m━━━━━━━━━━━━━━━━━━━━\u001b[0m\u001b[37m\u001b[0m \u001b[1m1s\u001b[0m 2ms/step - AUC: 0.7860 - Recall: 0.4990 - loss: 0.5304 - val_AUC: 0.0000e+00 - val_Recall: 0.6497 - val_loss: 0.5984\n",
      "Epoch 9/20\n",
      "\u001b[1m322/322\u001b[0m \u001b[32m━━━━━━━━━━━━━━━━━━━━\u001b[0m\u001b[37m\u001b[0m \u001b[1m1s\u001b[0m 2ms/step - AUC: 0.7953 - Recall: 0.5045 - loss: 0.5183 - val_AUC: 0.0000e+00 - val_Recall: 0.5845 - val_loss: 0.6713\n",
      "Epoch 10/20\n",
      "\u001b[1m322/322\u001b[0m \u001b[32m━━━━━━━━━━━━━━━━━━━━\u001b[0m\u001b[37m\u001b[0m \u001b[1m1s\u001b[0m 2ms/step - AUC: 0.7988 - Recall: 0.5078 - loss: 0.5181 - val_AUC: 0.0000e+00 - val_Recall: 0.6878 - val_loss: 0.5406\n",
      "Epoch 11/20\n",
      "\u001b[1m322/322\u001b[0m \u001b[32m━━━━━━━━━━━━━━━━━━━━\u001b[0m\u001b[37m\u001b[0m \u001b[1m1s\u001b[0m 2ms/step - AUC: 0.8018 - Recall: 0.5336 - loss: 0.5138 - val_AUC: 0.0000e+00 - val_Recall: 0.6338 - val_loss: 0.6105\n",
      "Epoch 12/20\n",
      "\u001b[1m322/322\u001b[0m \u001b[32m━━━━━━━━━━━━━━━━━━━━\u001b[0m\u001b[37m\u001b[0m \u001b[1m1s\u001b[0m 2ms/step - AUC: 0.8022 - Recall: 0.5183 - loss: 0.5100 - val_AUC: 0.0000e+00 - val_Recall: 0.6478 - val_loss: 0.5872\n",
      "Epoch 13/20\n",
      "\u001b[1m322/322\u001b[0m \u001b[32m━━━━━━━━━━━━━━━━━━━━\u001b[0m\u001b[37m\u001b[0m \u001b[1m1s\u001b[0m 2ms/step - AUC: 0.8118 - Recall: 0.5508 - loss: 0.5026 - val_AUC: 0.0000e+00 - val_Recall: 0.6093 - val_loss: 0.6452\n",
      "Epoch 14/20\n",
      "\u001b[1m322/322\u001b[0m \u001b[32m━━━━━━━━━━━━━━━━━━━━\u001b[0m\u001b[37m\u001b[0m \u001b[1m1s\u001b[0m 2ms/step - AUC: 0.8099 - Recall: 0.5461 - loss: 0.5033 - val_AUC: 0.0000e+00 - val_Recall: 0.6272 - val_loss: 0.6132\n",
      "Epoch 15/20\n",
      "\u001b[1m322/322\u001b[0m \u001b[32m━━━━━━━━━━━━━━━━━━━━\u001b[0m\u001b[37m\u001b[0m \u001b[1m1s\u001b[0m 2ms/step - AUC: 0.8159 - Recall: 0.5378 - loss: 0.4982 - val_AUC: 0.0000e+00 - val_Recall: 0.6078 - val_loss: 0.6347\n",
      "Epoch 16/20\n",
      "\u001b[1m322/322\u001b[0m \u001b[32m━━━━━━━━━━━━━━━━━━━━\u001b[0m\u001b[37m\u001b[0m \u001b[1m1s\u001b[0m 2ms/step - AUC: 0.8154 - Recall: 0.5546 - loss: 0.4975 - val_AUC: 0.0000e+00 - val_Recall: 0.6350 - val_loss: 0.6088\n",
      "Epoch 17/20\n",
      "\u001b[1m322/322\u001b[0m \u001b[32m━━━━━━━━━━━━━━━━━━━━\u001b[0m\u001b[37m\u001b[0m \u001b[1m1s\u001b[0m 2ms/step - AUC: 0.8156 - Recall: 0.5568 - loss: 0.4985 - val_AUC: 0.0000e+00 - val_Recall: 0.6070 - val_loss: 0.6639\n",
      "Epoch 18/20\n",
      "\u001b[1m322/322\u001b[0m \u001b[32m━━━━━━━━━━━━━━━━━━━━\u001b[0m\u001b[37m\u001b[0m \u001b[1m1s\u001b[0m 2ms/step - AUC: 0.8247 - Recall: 0.5604 - loss: 0.4889 - val_AUC: 0.0000e+00 - val_Recall: 0.6614 - val_loss: 0.5909\n",
      "Epoch 19/20\n",
      "\u001b[1m322/322\u001b[0m \u001b[32m━━━━━━━━━━━━━━━━━━━━\u001b[0m\u001b[37m\u001b[0m \u001b[1m1s\u001b[0m 2ms/step - AUC: 0.8225 - Recall: 0.5610 - loss: 0.4889 - val_AUC: 0.0000e+00 - val_Recall: 0.5864 - val_loss: 0.6697\n",
      "Epoch 20/20\n",
      "\u001b[1m322/322\u001b[0m \u001b[32m━━━━━━━━━━━━━━━━━━━━\u001b[0m\u001b[37m\u001b[0m \u001b[1m1s\u001b[0m 2ms/step - AUC: 0.8278 - Recall: 0.5646 - loss: 0.4868 - val_AUC: 0.0000e+00 - val_Recall: 0.6590 - val_loss: 0.6005\n",
      "\u001b[1m60/60\u001b[0m \u001b[32m━━━━━━━━━━━━━━━━━━━━\u001b[0m\u001b[37m\u001b[0m \u001b[1m0s\u001b[0m 2ms/step - AUC: 0.6020 - Recall: 0.1974 - loss: 0.5261   \n",
      "\n",
      "Step 8: Model evaluated.\n",
      "Sensitivity (Recall): 0.24\n",
      "AUC Score: 0.61\n"
     ]
    }
   ],
   "source": [
    "#8) Calculate the area under the receiver operating characteristics curve\n",
    "# Now include AUC too\n",
    "model.compile(optimizer='adam', loss='binary_crossentropy', metrics=['Recall', 'AUC'])\n",
    "\n",
    "# Train the model\n",
    "history = model.fit(X_train_bal_scaled, y_train_bal, epochs=20, batch_size=32, validation_split=0.2)\n",
    "\n",
    "# Evaluate\n",
    "loss, recall, auc = model.evaluate(X_test_scaled, y_test)\n",
    "\n",
    "print(f\"\\nStep 8: Model evaluated.\")\n",
    "print(f\"Sensitivity (Recall): {recall:.2f}\")\n",
    "print(f\"AUC Score: {auc:.2f}\")"
   ]
  },
  {
   "cell_type": "code",
   "execution_count": null,
   "id": "b094eed9-1aec-40dd-8f8f-e366a0007b29",
   "metadata": {},
   "outputs": [],
   "source": []
  }
 ],
 "metadata": {
  "kernelspec": {
   "display_name": "Python 3 (ipykernel)",
   "language": "python",
   "name": "python3"
  },
  "language_info": {
   "codemirror_mode": {
    "name": "ipython",
    "version": 3
   },
   "file_extension": ".py",
   "mimetype": "text/x-python",
   "name": "python",
   "nbconvert_exporter": "python",
   "pygments_lexer": "ipython3",
   "version": "3.12.3"
  }
 },
 "nbformat": 4,
 "nbformat_minor": 5
}
